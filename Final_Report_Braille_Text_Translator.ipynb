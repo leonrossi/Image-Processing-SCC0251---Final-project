{
 "cells": [
  {
   "cell_type": "markdown",
   "id": "a9b3eb35",
   "metadata": {},
   "source": [
    "# Final Project - Braille Text Translator\n",
    "## SCC0251 - Image Processing\n",
    "\n",
    "### Students\n",
    "* Caio Augusto Duarte Basso - NUSP 10801173\n",
    "* Gabriel Garcia Lorencetti - NUSP 10691891\n",
    "* Leonardo Rossi Luiz - NUSP 10851691\n",
    "* Witor Matheus Alves de Oliveira - NUSP 10692190\n",
    "\n",
    "\n",
    "### Main objective\n",
    "The main objective of this project is to build a program able to recognize letters of a braille text present in an image digitally generated, i.e, given an input image, containing a text in braille, perform the translation to the alphabetic writing system."
   ]
  },
  {
   "cell_type": "markdown",
   "id": "ddf75e36",
   "metadata": {},
   "source": [
    "### Iput images\n",
    "The images used in this project were digitally generated, with the aid of a Braille letter dictionary and a code (which will be shown below) capable of generating Braille sentences, given an input."
   ]
  },
  {
   "cell_type": "markdown",
   "id": "3406a4ff",
   "metadata": {},
   "source": [
    "### Importing required libraries"
   ]
  },
  {
   "cell_type": "code",
   "execution_count": 1,
   "id": "58970cc3",
   "metadata": {},
   "outputs": [],
   "source": [
    "import numpy as np\n",
    "import imageio\n",
    "import scipy\n",
    "import scipy.ndimage\n",
    "import sys\n",
    "import matplotlib.pyplot as plt\n",
    "from skimage import morphology\n",
    "from PIL import Image"
   ]
  },
  {
   "cell_type": "markdown",
   "id": "93fc8e4d",
   "metadata": {},
   "source": [
    "### Generating a Braille Image\n",
    "Given an input sentence, and with the help of the dictionary, the code generates an image containing the sentence in the Braille system."
   ]
  },
  {
   "cell_type": "code",
   "execution_count": 2,
   "id": "f3e8f04e",
   "metadata": {},
   "outputs": [
    {
     "name": "stdout",
     "output_type": "stream",
     "text": [
      "Type a word or sentence to create braille image.\n",
      "hello\n"
     ]
    }
   ],
   "source": [
    "# Gerando texto em braille para entrada do nosso problema\n",
    "letters = [Image.open(x) for x in ['dictionary/a.png', 'dictionary/b.png', 'dictionary/c.png', 'dictionary/d.png',\n",
    "                                   'dictionary/e.png', 'dictionary/f.png', 'dictionary/g.png', 'dictionary/h.png',\n",
    "                                   'dictionary/i.png', 'dictionary/j.png', 'dictionary/k.png', 'dictionary/l.png',\n",
    "                                   'dictionary/m.png', 'dictionary/n.png', 'dictionary/o.png', 'dictionary/p.png',\n",
    "                                   'dictionary/q.png', 'dictionary/r.png', 'dictionary/s.png', 'dictionary/t.png',\n",
    "                                   'dictionary/u.png', 'dictionary/v.png', 'dictionary/w.png', 'dictionary/x.png',\n",
    "                                   'dictionary/y.png', 'dictionary/z.png', 'dictionary/_space.png'\n",
    "                                  ]]\n",
    "\n",
    "print(\"Type a word or sentence to create braille image.\")\n",
    "word = input().rstrip()\n",
    "\n",
    "images = []\n",
    "for letter in word:\n",
    "    if letter != ' ':\n",
    "        images.append(letters[ord(letter)-ord('a')])\n",
    "    else: images.append(letters[26])\n",
    "widths, heights = zip(*(i.size for i in images))\n",
    "\n",
    "total_width = sum(widths)\n",
    "max_height = max(heights)\n",
    "\n",
    "new_im = Image.new('RGB', (total_width, max_height))\n",
    "\n",
    "x_offset = 0\n",
    "for im in images:\n",
    "  new_im.paste(im, (x_offset,0))\n",
    "  x_offset += im.size[0]\n",
    "\n",
    "word_chunks = word.split(' ')\n",
    "new_im.save(word_chunks[0]+'.png')"
   ]
  },
  {
   "cell_type": "markdown",
   "id": "e042f67d",
   "metadata": {},
   "source": [
    "###  Preprocessing and quantisation\n",
    "After performing the image generation, we will transform the image to grayscale using the Luminance method. Afterwards, as the image has only two colors, black and white, we will quantize the image to use only 1 bit, which will help us to make subsequent calculations more efficient."
   ]
  },
  {
   "cell_type": "code",
   "execution_count": 3,
   "id": "5dc99d92",
   "metadata": {},
   "outputs": [],
   "source": [
    "def To_grayscale(img):    \n",
    "    imgA = np.floor(img[:,:,0] * 0.299 + img[:,:,1] * 0.587 + img[:,:,2] * 0.114)\n",
    "    imgA = imgA.astype('uint8')\n",
    "    return imgA"
   ]
  },
  {
   "cell_type": "code",
   "execution_count": 4,
   "id": "577ecd56",
   "metadata": {},
   "outputs": [],
   "source": [
    "def Quantisation (img, b):\n",
    "    img = np.right_shift(img, 8-b)\n",
    "    return img"
   ]
  },
  {
   "cell_type": "markdown",
   "id": "84834ecb",
   "metadata": {},
   "source": [
    "### Euclidean distance calculation"
   ]
  },
  {
   "cell_type": "code",
   "execution_count": 5,
   "id": "a707d136",
   "metadata": {},
   "outputs": [],
   "source": [
    "def Difference(a, b):\n",
    "    np.seterr(all='ignore')\n",
    "    return np.sqrt(np.sum((a-b)**2))"
   ]
  },
  {
   "cell_type": "code",
   "execution_count": 6,
   "id": "8a4d5440",
   "metadata": {},
   "outputs": [],
   "source": [
    "def letter_representation(_img_ref, bits):\n",
    "    ####### reading image #######\n",
    "    dot_left = imageio.imread(\"dictionary/_left_dot.png\")\n",
    "    dot_right = imageio.imread(\"dictionary/_right_dot.png\")\n",
    "    ref_img = imageio.imread(_img_ref)\n",
    "    #############################\n",
    "\n",
    "\n",
    "    ###### Preprocessing and Quantisation ######\n",
    "    grayscale_left = To_grayscale(dot_left)\n",
    "    grayscale_right = To_grayscale(dot_right)\n",
    "    grayscale_left = Quantisation(grayscale_left, bits)\n",
    "    grayscale_right = Quantisation(grayscale_right, bits)\n",
    "\n",
    "    g_ref_img = To_grayscale(ref_img)\n",
    "    g_ref_img = Quantisation(g_ref_img, bits)\n",
    "\n",
    "    grayscale_left = morphology.closing(grayscale_left, morphology.disk(4)).astype(np.uint8)\n",
    "    grayscale_right = morphology.closing(grayscale_right, morphology.disk(4)).astype(np.uint8)\n",
    "    g_ref_img = morphology.closing(g_ref_img, morphology.disk(4)).astype(np.uint8)\n",
    "    ############################################\n",
    "\n",
    "\n",
    "    ###### Finding the object #########\n",
    "    N,M = g_ref_img.shape\n",
    "    windows = np.empty((int(M/50)*6, 18, 25))\n",
    "\n",
    "    a = 0\n",
    "    for i in range (0, M-1, 50): # creating windows\n",
    "            temp_wind = g_ref_img[:,i:i+50]\n",
    "            n,m = temp_wind.shape\n",
    "            windows[a] = temp_wind[:int(n/3),:int(m/2)] # 1\n",
    "            windows[a+1] = temp_wind[:int(n/3),int(m/2):m] # 01\n",
    "            windows[a+2] = temp_wind[int(n/3):int(2*n/3),:int(m/2)] # 00/1\n",
    "            windows[a+3] = temp_wind[int(n/3):int(2*n/3),int(m/2):m] # 00/01\n",
    "            windows[a+4] = temp_wind[int(2*n/3):n,:int(m/2)] # 00/00/1\n",
    "            windows[a+5] = temp_wind[int(2*n/3):n,int(m/2):m] # 00/00/01\n",
    "            a += 6\n",
    "\n",
    "    \n",
    "    min_dist = sys.maxsize\n",
    "    close = -1\n",
    "    text = [[0]*6]\n",
    "    \n",
    "    # calculating the distances and finding the closest window\n",
    "    a = 0\n",
    "    for y in range (int(M/50)):\n",
    "        letter_value = np.zeros((1,6), dtype=np.int8)\n",
    "        for i in range(6):\n",
    "            if Difference(grayscale_left, windows[a+i]) <= 0.0001 or Difference(grayscale_right, windows[a+i]) <= 0.0001:\n",
    "                letter_value[0][i] = 1\n",
    "\n",
    "                \n",
    "        text = np.append(text, letter_value, axis=0)\n",
    "        a += 6\n",
    "    \n",
    "    return text"
   ]
  },
  {
   "cell_type": "code",
   "execution_count": 7,
   "id": "a8f54845",
   "metadata": {},
   "outputs": [
    {
     "name": "stdout",
     "output_type": "stream",
     "text": [
      "hello.png\n",
      "Valor do texto:\n",
      "[[1 0 1 1 0 0]\n",
      " [1 0 0 1 0 0]\n",
      " [1 0 1 0 1 0]\n",
      " [1 0 1 0 1 0]\n",
      " [1 0 0 1 1 0]]\n"
     ]
    }
   ],
   "source": [
    "# Gerando matriz representante do texto de entrada\n",
    "_img_ref = input().rstrip() # read reference image's name\n",
    "\n",
    "bits = 1 # quantisation parameter\n",
    "\n",
    "text_value = letter_representation(_img_ref, bits)[1:]\n",
    "print(\"Valor do texto:\")\n",
    "print(text_value)"
   ]
  },
  {
   "cell_type": "code",
   "execution_count": 8,
   "id": "cf06cd6c",
   "metadata": {},
   "outputs": [],
   "source": [
    "# Gerando dicionario de cada letra com seu respectivo valor vetorial\n",
    "dic = {}\n",
    "alphabet = ['dictionary/a.png', 'dictionary/b.png', 'dictionary/c.png', 'dictionary/d.png', 'dictionary/e.png', \n",
    "            'dictionary/f.png', 'dictionary/g.png', 'dictionary/h.png', 'dictionary/i.png', 'dictionary/j.png', \n",
    "            'dictionary/k.png', 'dictionary/l.png', 'dictionary/m.png', 'dictionary/n.png', 'dictionary/o.png', \n",
    "            'dictionary/p.png', 'dictionary/q.png', 'dictionary/r.png', 'dictionary/s.png', 'dictionary/t.png', \n",
    "            'dictionary/u.png', 'dictionary/v.png', 'dictionary/w.png', 'dictionary/x.png', 'dictionary/y.png', \n",
    "            'dictionary/z.png'\n",
    "           ]\n",
    "\n",
    "for temp in alphabet:\n",
    "    dic[temp[11]] = list(letter_representation(temp,1)[1])\n",
    "dic[' '] = [0,0,0,0,0,0]"
   ]
  },
  {
   "cell_type": "code",
   "execution_count": 9,
   "id": "2401cb57",
   "metadata": {},
   "outputs": [
    {
     "name": "stdout",
     "output_type": "stream",
     "text": [
      "Texto traduzido: hello\n"
     ]
    }
   ],
   "source": [
    "# Comparando valor do texto com o dicionario e formando resultado final\n",
    "final_text = \"\"\n",
    "for i in range(text_value.shape[0]):\n",
    "    for key, values in dic.items():\n",
    "        if(list(text_value[i]) == list(values)):\n",
    "            final_text += key\n",
    "            \n",
    "print(\"Texto traduzido:\", final_text)"
   ]
  }
 ],
 "metadata": {
  "kernelspec": {
   "display_name": "Python 3",
   "language": "python",
   "name": "python3"
  },
  "language_info": {
   "codemirror_mode": {
    "name": "ipython",
    "version": 3
   },
   "file_extension": ".py",
   "mimetype": "text/x-python",
   "name": "python",
   "nbconvert_exporter": "python",
   "pygments_lexer": "ipython3",
   "version": "3.8.8"
  }
 },
 "nbformat": 4,
 "nbformat_minor": 5
}
